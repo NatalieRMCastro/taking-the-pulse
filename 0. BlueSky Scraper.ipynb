{
 "cells": [
  {
   "cell_type": "markdown",
   "id": "9ad9b037",
   "metadata": {},
   "source": [
    "# Blue Sky Scraper\n",
    "---\n",
    "Author: Natalie Castro  \n",
    "Affiliation: University of Colorado at Boulder\n",
    "\n",
    "The purpose of this notebook is to use the BlueSky Post scraper, developed by DeepFates and hosted at this [GitHub Repository](https://github.com/deepfates/bsky-scraper) to then analyze and posts related to climate change in current windows of opportunity "
   ]
  },
  {
   "cell_type": "markdown",
   "id": "0bba8e1f",
   "metadata": {},
   "source": [
    "## 1. Environment Creation\n",
    "\n",
    "### 1.1 Library Import"
   ]
  },
  {
   "cell_type": "code",
   "execution_count": 1,
   "id": "42c1ab16",
   "metadata": {},
   "outputs": [],
   "source": [
    "''' BLUESKY POSTS '''\n",
    "from atproto import Client\n",
    "\n",
    "''' REQUIRED FOR SCRAPE.PY '''\n",
    "from atproto import FirehoseSubscribeReposClient, parse_subscribe_repos_message, CAR, IdResolver, DidInMemoryCache\n",
    "import json\n",
    "import time\n",
    "import argparse\n",
    "from datetime import datetime\n",
    "import multiprocessing\n",
    "import sys\n",
    "import signal\n",
    "\n",
    "''' PARSING THE DATA '''\n",
    "import json"
   ]
  },
  {
   "cell_type": "markdown",
   "id": "b3dbcbff",
   "metadata": {},
   "source": [
    "## 2. Data Collection"
   ]
  },
  {
   "cell_type": "code",
   "execution_count": 2,
   "id": "f034c08f",
   "metadata": {},
   "outputs": [
    {
     "name": "stdout",
     "output_type": "stream",
     "text": [
      "Starting collection...\n",
      "\n",
      "Client process exited unexpectedly.\n",
      "\n",
      "Collection complete!\n",
      "Collected 190354 posts in 4326.65 seconds\n",
      "Average rate: 44.0 posts/sec\n",
      "Output saved to: bluesky_posts_20250430_210335.jsonl\n",
      "\n",
      "Collection complete!\n",
      "Collected 190354 posts in 4326.65 seconds\n",
      "Average rate: 44.0 posts/sec\n",
      "Output saved to: bluesky_posts_20250430_210335.jsonl\n"
     ]
    }
   ],
   "source": [
    "%run scrape.py"
   ]
  },
  {
   "cell_type": "code",
   "execution_count": 2,
   "id": "a2f56455",
   "metadata": {},
   "outputs": [
    {
     "name": "stdout",
     "output_type": "stream",
     "text": [
      "Starting collection...\n",
      "\n",
      "Client process exited unexpectedly.\n",
      "\n",
      "Collection complete!\n",
      "Collected 193028 posts in 5156.51 seconds\n",
      "Average rate: 37.4 posts/sec\n",
      "Output saved to: bluesky_posts_20250430_234027.jsonl\n",
      "\n",
      "Collection complete!\n",
      "Collected 193028 posts in 5156.51 seconds\n",
      "Average rate: 37.4 posts/sec\n",
      "Output saved to: bluesky_posts_20250430_234027.jsonl\n"
     ]
    }
   ],
   "source": [
    "%run scrape.py"
   ]
  },
  {
   "cell_type": "code",
   "execution_count": 2,
   "id": "0a656756-89f2-4697-ab34-7f2e1436082a",
   "metadata": {},
   "outputs": [
    {
     "name": "stdout",
     "output_type": "stream",
     "text": [
      "Starting collection...\n",
      "\n",
      "Client process exited unexpectedly.\n",
      "\n",
      "Collection complete!\n",
      "Collected 732277 posts in 9906.04 seconds\n",
      "Average rate: 73.9 posts/sec\n",
      "Output saved to: bluesky_posts_20250501_072913.jsonl\n",
      "\n",
      "Collection complete!\n",
      "Collected 732277 posts in 9906.04 seconds\n",
      "Average rate: 73.9 posts/sec\n",
      "Output saved to: bluesky_posts_20250501_072913.jsonl\n"
     ]
    }
   ],
   "source": [
    "%run scrape.py"
   ]
  },
  {
   "cell_type": "code",
   "execution_count": 2,
   "id": "27c7638f",
   "metadata": {},
   "outputs": [
    {
     "name": "stdout",
     "output_type": "stream",
     "text": [
      "Starting collection...\n",
      "\n",
      "Client process exited unexpectedly.\n",
      "\n",
      "Collection complete!\n",
      "Collected 423338 posts in 6134.53 seconds\n",
      "Average rate: 69.0 posts/sec\n",
      "Output saved to: bluesky_posts_20250501_101553.jsonl\n",
      "\n",
      "Collection complete!\n",
      "Collected 423338 posts in 6134.53 seconds\n",
      "Average rate: 69.0 posts/sec\n",
      "Output saved to: bluesky_posts_20250501_101553.jsonl\n"
     ]
    }
   ],
   "source": [
    "%run scrape.py"
   ]
  },
  {
   "cell_type": "code",
   "execution_count": 2,
   "id": "724f1eed-9441-4b67-bc96-18f9ba63ff87",
   "metadata": {},
   "outputs": [
    {
     "name": "stdout",
     "output_type": "stream",
     "text": [
      "Starting collection...\n",
      "\n",
      "Client process exited unexpectedly.\n",
      "\n",
      "Collection complete!\n",
      "Collected 922260 posts in 14686.76 seconds\n",
      "Average rate: 62.8 posts/sec\n",
      "Output saved to: bluesky_posts_20250501_131039.jsonl\n",
      "\n",
      "Collection complete!\n",
      "Collected 922260 posts in 14686.76 seconds\n",
      "Average rate: 62.8 posts/sec\n",
      "Output saved to: bluesky_posts_20250501_131039.jsonl\n"
     ]
    }
   ],
   "source": [
    "%run scrape.py"
   ]
  },
  {
   "cell_type": "code",
   "execution_count": null,
   "id": "8e2a2ee4-9a13-4c4b-8cad-e32462ff9227",
   "metadata": {},
   "outputs": [
    {
     "name": "stdout",
     "output_type": "stream",
     "text": [
      "Starting collection...\n"
     ]
    }
   ],
   "source": [
    "%run scrape.py"
   ]
  },
  {
   "cell_type": "code",
   "execution_count": null,
   "id": "abf745cd-7a95-48f5-999e-b7664e6f281d",
   "metadata": {},
   "outputs": [],
   "source": []
  }
 ],
 "metadata": {
  "kernelspec": {
   "display_name": "Python 3 (ipykernel)",
   "language": "python",
   "name": "python3"
  },
  "language_info": {
   "codemirror_mode": {
    "name": "ipython",
    "version": 3
   },
   "file_extension": ".py",
   "mimetype": "text/x-python",
   "name": "python",
   "nbconvert_exporter": "python",
   "pygments_lexer": "ipython3",
   "version": "3.10.16"
  }
 },
 "nbformat": 4,
 "nbformat_minor": 5
}
